{
 "cells": [
  {
   "cell_type": "markdown",
   "id": "945bb27c",
   "metadata": {},
   "source": [
    "# Ajuste de Modelos"
   ]
  },
  {
   "cell_type": "code",
   "execution_count": 2,
   "id": "914a4189",
   "metadata": {},
   "outputs": [],
   "source": [
    "import statsmodels.api as sm\n",
    "import statsmodels.formula.api as smf\n",
    "from statsmodels.tools.tools import add_constant\n",
    "import pandas as pd"
   ]
  },
  {
   "cell_type": "code",
   "execution_count": 3,
   "id": "4b6dc962",
   "metadata": {},
   "outputs": [],
   "source": [
    "# warnings are ignored to avoid cluttering the output\n",
    "import warnings\n",
    "warnings.filterwarnings(\"ignore\")"
   ]
  },
  {
   "cell_type": "code",
   "execution_count": 4,
   "id": "a6021632",
   "metadata": {},
   "outputs": [],
   "source": [
    "url = \"https://vincentarelbundock.github.io/Rdatasets/csv/AER/RecreationDemand.csv\"\n",
    "df = pd.read_csv(url)\n",
    "df = df.drop(columns=[\"rownames\"])"
   ]
  },
  {
   "cell_type": "code",
   "execution_count": 5,
   "id": "74e49ba7",
   "metadata": {},
   "outputs": [],
   "source": [
    "df['ski'] = df['ski'].astype('category')\n",
    "df['userfee'] = df['userfee'].astype('category')"
   ]
  },
  {
   "cell_type": "markdown",
   "id": "6821c722",
   "metadata": {},
   "source": [
    "### Ajuste do Modelo de Poisson"
   ]
  },
  {
   "cell_type": "code",
   "execution_count": null,
   "id": "83fa48ee",
   "metadata": {},
   "outputs": [
    {
     "name": "stdout",
     "output_type": "stream",
     "text": [
      "                 Generalized Linear Model Regression Results                  \n",
      "==============================================================================\n",
      "Dep. Variable:                  trips   No. Observations:                  659\n",
      "Model:                            GLM   Df Residuals:                      651\n",
      "Model Family:                 Poisson   Df Model:                            7\n",
      "Link Function:                    Log   Scale:                          1.0000\n",
      "Method:                          IRLS   Log-Likelihood:                -1529.4\n",
      "Date:                Sun, 25 May 2025   Deviance:                       2305.8\n",
      "Time:                        21:15:24   Pearson chi2:                 4.10e+03\n",
      "No. Iterations:                     8   Pseudo R-squ. (CS):             0.9789\n",
      "Covariance Type:            nonrobust                                         \n",
      "==================================================================================\n",
      "                     coef    std err          z      P>|z|      [0.025      0.975]\n",
      "----------------------------------------------------------------------------------\n",
      "Intercept          0.2650      0.094      2.827      0.005       0.081       0.449\n",
      "ski[T.yes]         0.4182      0.057      7.313      0.000       0.306       0.530\n",
      "userfee[T.yes]     0.8982      0.079     11.371      0.000       0.743       1.053\n",
      "quality            0.4717      0.017     27.602      0.000       0.438       0.505\n",
      "income            -0.1113      0.020     -5.683      0.000      -0.150      -0.073\n",
      "costC             -0.0034      0.003     -1.100      0.271      -0.010       0.003\n",
      "costS             -0.0425      0.002    -25.466      0.000      -0.046      -0.039\n",
      "costH              0.0361      0.003     13.335      0.000       0.031       0.041\n",
      "==================================================================================\n"
     ]
    }
   ],
   "source": [
    "poisson_model_complete = smf.glm(\n",
    "    formula=\"trips ~ quality + income + ski + userfee + costC + costS + costH\",\n",
    "    data=df,\n",
    "    family=sm.families.Poisson(),\n",
    ").fit()\n",
    "\n",
    "print(poisson_model_complete.summary())"
   ]
  },
  {
   "cell_type": "code",
   "execution_count": 28,
   "id": "5e5f11fb",
   "metadata": {},
   "outputs": [
    {
     "name": "stdout",
     "output_type": "stream",
     "text": [
      "                 Generalized Linear Model Regression Results                  \n",
      "==============================================================================\n",
      "Dep. Variable:                  trips   No. Observations:                  659\n",
      "Model:                            GLM   Df Residuals:                      654\n",
      "Model Family:                 Poisson   Df Model:                            4\n",
      "Link Function:                    Log   Scale:                          1.0000\n",
      "Method:                          IRLS   Log-Likelihood:                -1755.8\n",
      "Date:                Sun, 25 May 2025   Deviance:                       2758.5\n",
      "Time:                        21:30:16   Pearson chi2:                 6.22e+03\n",
      "No. Iterations:                     6   Pseudo R-squ. (CS):             0.9581\n",
      "Covariance Type:            nonrobust                                         \n",
      "==================================================================================\n",
      "                     coef    std err          z      P>|z|      [0.025      0.975]\n",
      "----------------------------------------------------------------------------------\n",
      "Intercept          0.1026      0.073      1.409      0.159      -0.040       0.245\n",
      "ski[T.yes]         0.3169      0.054      5.887      0.000       0.211       0.422\n",
      "userfee[T.yes]     1.1516      0.080     14.416      0.000       0.995       1.308\n",
      "quality            0.5328      0.016     33.776      0.000       0.502       0.564\n",
      "costS             -0.0156      0.001    -15.486      0.000      -0.018      -0.014\n",
      "==================================================================================\n"
     ]
    }
   ],
   "source": [
    "poisson_model_simple = smf.glm(\n",
    "    formula=\"trips ~ quality + ski + userfee + costS\",\n",
    "    data=df,\n",
    "    family=sm.families.Poisson(),\n",
    ").fit()\n",
    "\n",
    "print(poisson_model_simple.summary())"
   ]
  },
  {
   "cell_type": "code",
   "execution_count": 67,
   "id": "3126e21b",
   "metadata": {},
   "outputs": [
    {
     "name": "stdout",
     "output_type": "stream",
     "text": [
      "Zeros observados: 417\n",
      "Zeros esperados pelo modelo completo: 277\n",
      "Zeros esperados pelo modelo simples: 255\n"
     ]
    }
   ],
   "source": [
    "import numpy as np\n",
    "\n",
    "lambda_complete = poisson_model_complete.predict(df)\n",
    "lambda_simple = poisson_model_simple.predict(df)\n",
    "\n",
    "# Probabilidade de prever zero\n",
    "prob_zero_complete = np.exp(-lambda_complete)\n",
    "prob_zero_simple = np.exp(-lambda_simple)\n",
    "\n",
    "# Número esperado de zeros\n",
    "expected_zeros_complete = prob_zero_complete.sum()\n",
    "expected_zeros_simple = prob_zero_simple.sum()\n",
    "# zeros observados\n",
    "n_zeros = (df['trips'] == 0).sum()\n",
    "\n",
    "\n",
    "print(f\"Zeros observados: {n_zeros}\")\n",
    "print(f\"Zeros esperados pelo modelo completo: {expected_zeros_complete:.0f}\")\n",
    "print(f\"Zeros esperados pelo modelo simples: {expected_zeros_simple:.0f}\")"
   ]
  },
  {
   "cell_type": "markdown",
   "id": "1bc549ad",
   "metadata": {},
   "source": [
    "### Teste de Sobredispersão"
   ]
  },
  {
   "cell_type": "code",
   "execution_count": 59,
   "id": "a6c183be",
   "metadata": {},
   "outputs": [
    {
     "name": "stdout",
     "output_type": "stream",
     "text": [
      "                                 OLS Regression Results                                \n",
      "=======================================================================================\n",
      "Dep. Variable:                      y   R-squared (uncentered):                   0.030\n",
      "Model:                            OLS   Adj. R-squared (uncentered):              0.029\n",
      "Method:                 Least Squares   F-statistic:                              20.44\n",
      "Date:                Sun, 25 May 2025   Prob (F-statistic):                    7.31e-06\n",
      "Time:                        21:44:56   Log-Likelihood:                         -4694.7\n",
      "No. Observations:                 659   AIC:                                      9391.\n",
      "Df Residuals:                     658   BIC:                                      9396.\n",
      "Df Model:                           1                                                  \n",
      "Covariance Type:            nonrobust                                                  \n",
      "==============================================================================\n",
      "                 coef    std err          t      P>|t|      [0.025      0.975]\n",
      "------------------------------------------------------------------------------\n",
      "x1            12.4087      2.745      4.521      0.000       7.019      17.799\n",
      "==============================================================================\n",
      "Omnibus:                     1559.504   Durbin-Watson:                   0.615\n",
      "Prob(Omnibus):                  0.000   Jarque-Bera (JB):          6682738.089\n",
      "Skew:                          21.105   Prob(JB):                         0.00\n",
      "Kurtosis:                     494.524   Cond. No.                         1.00\n",
      "==============================================================================\n",
      "\n",
      "Notes:\n",
      "[1] R² is computed without centering (uncentered) since the model does not contain a constant.\n",
      "[2] Standard Errors assume that the covariance matrix of the errors is correctly specified.\n"
     ]
    }
   ],
   "source": [
    "# Valores ajustados\n",
    "mu_hat = poisson_model_simple.fittedvalues\n",
    "y = df[\"trips\"]\n",
    "\n",
    "# Estatistica Z_i\n",
    "Zi = ((y - mu_hat)**2) - y / mu_hat\n",
    "\n",
    "# Regressão de Z_i em mu_hat (sem intercepto)\n",
    "sobredisp = sm.OLS(Zi, mu_hat).fit()\n",
    "print(sobredisp.summary())"
   ]
  },
  {
   "cell_type": "code",
   "execution_count": 60,
   "id": "23657872",
   "metadata": {},
   "outputs": [
    {
     "name": "stdout",
     "output_type": "stream",
     "text": [
      "O modelo apresenta sobredispersão, com p-value (7.309728588708232e-06) < 0.05 e coeficiente estimado (12.4) > 0.\n"
     ]
    }
   ],
   "source": [
    "p_value = sobredisp.pvalues[0]\n",
    "coef = sobredisp.params[0]\n",
    "\n",
    "#print(f\"P-value do teste de sobredispersão: {p_value}\")\n",
    "#print(f\"Coeficiente estimado: {coef:.1f}\")\n",
    "\n",
    "# Teste de sobredispersão\n",
    "if p_value < 0.05:\n",
    "    print(f\"O modelo apresenta sobredispersão, com p-value ({p_value}) < 0.05 e coeficiente estimado ({coef:.1f}) > 0.\")\n",
    "else:\n",
    "    print(\"Não há evidências de sobredispersão nos dados.\")"
   ]
  },
  {
   "cell_type": "markdown",
   "id": "4135599a",
   "metadata": {},
   "source": [
    "## Modelos Alternativos"
   ]
  },
  {
   "cell_type": "markdown",
   "id": "c48fc9f5",
   "metadata": {},
   "source": [
    "### Binomial Negativa"
   ]
  },
  {
   "cell_type": "code",
   "execution_count": 35,
   "id": "d3c0ecc7",
   "metadata": {},
   "outputs": [
    {
     "name": "stdout",
     "output_type": "stream",
     "text": [
      "                 Generalized Linear Model Regression Results                  \n",
      "==============================================================================\n",
      "Dep. Variable:                  trips   No. Observations:                  659\n",
      "Model:                            GLM   Df Residuals:                      651\n",
      "Model Family:        NegativeBinomial   Df Model:                            7\n",
      "Link Function:                    Log   Scale:                          1.0000\n",
      "Method:                          IRLS   Log-Likelihood:                -830.01\n",
      "Date:                Sun, 25 May 2025   Deviance:                       503.97\n",
      "Time:                        21:33:15   Pearson chi2:                 1.13e+03\n",
      "No. Iterations:                    25   Pseudo R-squ. (CS):             0.7744\n",
      "Covariance Type:            nonrobust                                         \n",
      "==================================================================================\n",
      "                     coef    std err          z      P>|z|      [0.025      0.975]\n",
      "----------------------------------------------------------------------------------\n",
      "Intercept         -1.0085      0.194     -5.187      0.000      -1.390      -0.627\n",
      "ski[T.yes]         0.6018      0.134      4.479      0.000       0.338       0.865\n",
      "userfee[T.yes]     0.6702      0.306      2.191      0.028       0.071       1.270\n",
      "quality            0.6942      0.036     19.115      0.000       0.623       0.765\n",
      "income            -0.0322      0.038     -0.839      0.402      -0.107       0.043\n",
      "costC              0.0442      0.008      5.492      0.000       0.028       0.060\n",
      "costS             -0.0903      0.006    -15.343      0.000      -0.102      -0.079\n",
      "costH              0.0400      0.007      5.869      0.000       0.027       0.053\n",
      "==================================================================================\n"
     ]
    }
   ],
   "source": [
    "neg_bin_complete = smf.glm(\n",
    "    formula=\"trips ~ quality + income + ski + userfee + costC + costS + costH\",\n",
    "    data=df,\n",
    "    family=sm.families.NegativeBinomial(),\n",
    ").fit()\n",
    "\n",
    "print(neg_bin_complete.summary())"
   ]
  },
  {
   "cell_type": "code",
   "execution_count": 39,
   "id": "3435e4fb",
   "metadata": {},
   "outputs": [
    {
     "name": "stdout",
     "output_type": "stream",
     "text": [
      "                 Generalized Linear Model Regression Results                  \n",
      "==============================================================================\n",
      "Dep. Variable:                  trips   No. Observations:                  659\n",
      "Model:                            GLM   Df Residuals:                      654\n",
      "Model Family:        NegativeBinomial   Df Model:                            4\n",
      "Link Function:                    Log   Scale:                          1.0000\n",
      "Method:                          IRLS   Log-Likelihood:                -927.23\n",
      "Date:                Sun, 25 May 2025   Deviance:                       698.42\n",
      "Time:                        21:33:59   Pearson chi2:                 2.67e+03\n",
      "No. Iterations:                    13   Pseudo R-squ. (CS):             0.6969\n",
      "Covariance Type:            nonrobust                                         \n",
      "==================================================================================\n",
      "                     coef    std err          z      P>|z|      [0.025      0.975]\n",
      "----------------------------------------------------------------------------------\n",
      "Intercept         -0.7578      0.137     -5.526      0.000      -1.027      -0.489\n",
      "ski[T.yes]         0.4620      0.122      3.775      0.000       0.222       0.702\n",
      "userfee[T.yes]     1.4388      0.300      4.800      0.000       0.851       2.026\n",
      "quality            0.8058      0.033     24.643      0.000       0.742       0.870\n",
      "costS             -0.0142      0.002     -7.340      0.000      -0.018      -0.010\n",
      "==================================================================================\n"
     ]
    }
   ],
   "source": [
    "neg_bin_simple = smf.glm(\n",
    "    formula = \"trips ~ quality + ski + userfee + costS\",\n",
    "    data=df,\n",
    "    family=sm.families.NegativeBinomial(),\n",
    ").fit()\n",
    "\n",
    "print(neg_bin_simple.summary())"
   ]
  },
  {
   "cell_type": "code",
   "execution_count": 41,
   "id": "54061a56",
   "metadata": {},
   "outputs": [
    {
     "name": "stdout",
     "output_type": "stream",
     "text": [
      "                 Generalized Linear Model Regression Results                  \n",
      "==============================================================================\n",
      "Dep. Variable:                  trips   No. Observations:                  659\n",
      "Model:                            GLM   Df Residuals:                      652\n",
      "Model Family:        NegativeBinomial   Df Model:                            6\n",
      "Link Function:                    Log   Scale:                          1.0000\n",
      "Method:                          IRLS   Log-Likelihood:                -830.32\n",
      "Date:                Sun, 25 May 2025   Deviance:                       504.59\n",
      "Time:                        21:34:50   Pearson chi2:                 1.15e+03\n",
      "No. Iterations:                    24   Pseudo R-squ. (CS):             0.7742\n",
      "Covariance Type:            nonrobust                                         \n",
      "==================================================================================\n",
      "                     coef    std err          z      P>|z|      [0.025      0.975]\n",
      "----------------------------------------------------------------------------------\n",
      "Intercept         -1.1109      0.151     -7.370      0.000      -1.406      -0.815\n",
      "ski[T.yes]         0.5858      0.132      4.455      0.000       0.328       0.844\n",
      "userfee[T.yes]     0.6688      0.306      2.187      0.029       0.069       1.268\n",
      "quality            0.6954      0.036     19.146      0.000       0.624       0.767\n",
      "costC              0.0438      0.008      5.430      0.000       0.028       0.060\n",
      "costS             -0.0911      0.006    -15.553      0.000      -0.103      -0.080\n",
      "costH              0.0409      0.007      6.008      0.000       0.028       0.054\n",
      "==================================================================================\n"
     ]
    }
   ],
   "source": [
    "neg_bin_model = smf.glm(\n",
    "    formula = \"trips ~ quality + ski + userfee + costC + costS + costH\",\n",
    "    data=df,\n",
    "    family=sm.families.NegativeBinomial(),\n",
    ").fit()\n",
    "\n",
    "print(neg_bin_model.summary())"
   ]
  },
  {
   "cell_type": "code",
   "execution_count": 43,
   "id": "d37cf822",
   "metadata": {},
   "outputs": [
    {
     "name": "stdout",
     "output_type": "stream",
     "text": [
      "                Model          AIC          BIC\n",
      "4  Neg Bin sem Income  1674.631200 -3727.366185\n",
      "2    Neg Bin Completo  1676.012852 -3721.493810\n",
      "3     Neg Bin Simples  1864.468744 -3546.510088\n",
      "0    Poisson Completo  3074.862594 -1919.675463\n",
      "1     Poisson Simples  3521.533609 -1486.476618\n"
     ]
    }
   ],
   "source": [
    "# compare all models\n",
    "\n",
    "models_comparison = pd.DataFrame({\n",
    "    'Model': ['Poisson Completo', 'Poisson Simples',\n",
    "                'Neg Bin Completo', 'Neg Bin Simples', 'Neg Bin sem Income'],\n",
    "    'AIC': [m.aic for m in [\n",
    "        poisson_model_complete, poisson_model_simple,\n",
    "        neg_bin_complete, neg_bin_simple, neg_bin_model\n",
    "    ]],\n",
    "    'BIC': [m.bic for m in [\n",
    "        poisson_model_complete, poisson_model_simple,\n",
    "        neg_bin_complete, neg_bin_simple, neg_bin_model\n",
    "    ]]\n",
    "})\n",
    "\n",
    "print(models_comparison.sort_values('AIC'))"
   ]
  }
 ],
 "metadata": {
  "kernelspec": {
   "display_name": "Python 3",
   "language": "python",
   "name": "python3"
  },
  "language_info": {
   "codemirror_mode": {
    "name": "ipython",
    "version": 3
   },
   "file_extension": ".py",
   "mimetype": "text/x-python",
   "name": "python",
   "nbconvert_exporter": "python",
   "pygments_lexer": "ipython3",
   "version": "3.12.0"
  }
 },
 "nbformat": 4,
 "nbformat_minor": 5
}
