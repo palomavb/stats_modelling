{
 "cells": [
  {
   "cell_type": "markdown",
   "id": "945bb27c",
   "metadata": {},
   "source": [
    "# Ajuste de Modelos"
   ]
  },
  {
   "cell_type": "code",
   "execution_count": 241,
   "id": "914a4189",
   "metadata": {},
   "outputs": [],
   "source": [
    "import statsmodels.api as sm\n",
    "import statsmodels.formula.api as smf\n",
    "from statsmodels.tools.tools import add_constant\n",
    "import pandas as pd"
   ]
  },
  {
   "cell_type": "code",
   "execution_count": 242,
   "id": "4b6dc962",
   "metadata": {},
   "outputs": [],
   "source": [
    "# warnings are ignored to avoid cluttering the output\n",
    "import warnings\n",
    "warnings.filterwarnings(\"ignore\")"
   ]
  },
  {
   "cell_type": "code",
   "execution_count": 243,
   "id": "a6021632",
   "metadata": {},
   "outputs": [],
   "source": [
    "url = \"https://vincentarelbundock.github.io/Rdatasets/csv/AER/RecreationDemand.csv\"\n",
    "df = pd.read_csv(url)\n",
    "df = df.drop(columns=[\"rownames\"])"
   ]
  },
  {
   "cell_type": "code",
   "execution_count": 244,
   "id": "74e49ba7",
   "metadata": {},
   "outputs": [],
   "source": [
    "df['ski'] = df['ski'].astype('category')\n",
    "df['userfee'] = df['userfee'].astype('category')"
   ]
  },
  {
   "cell_type": "markdown",
   "id": "6821c722",
   "metadata": {},
   "source": [
    "### Ajuste do Modelo de Poisson"
   ]
  },
  {
   "cell_type": "code",
   "execution_count": 245,
   "id": "83fa48ee",
   "metadata": {},
   "outputs": [
    {
     "name": "stdout",
     "output_type": "stream",
     "text": [
      "                 Generalized Linear Model Regression Results                  \n",
      "==============================================================================\n",
      "Dep. Variable:                  trips   No. Observations:                  659\n",
      "Model:                            GLM   Df Residuals:                      651\n",
      "Model Family:                 Poisson   Df Model:                            7\n",
      "Link Function:                    Log   Scale:                          1.0000\n",
      "Method:                          IRLS   Log-Likelihood:                -1529.4\n",
      "Date:                Sun, 25 May 2025   Deviance:                       2305.8\n",
      "Time:                        21:03:35   Pearson chi2:                 4.10e+03\n",
      "No. Iterations:                     8   Pseudo R-squ. (CS):             0.9789\n",
      "Covariance Type:            nonrobust                                         \n",
      "==================================================================================\n",
      "                     coef    std err          z      P>|z|      [0.025      0.975]\n",
      "----------------------------------------------------------------------------------\n",
      "Intercept          0.2650      0.094      2.827      0.005       0.081       0.449\n",
      "ski[T.yes]         0.4182      0.057      7.313      0.000       0.306       0.530\n",
      "userfee[T.yes]     0.8982      0.079     11.371      0.000       0.743       1.053\n",
      "quality            0.4717      0.017     27.602      0.000       0.438       0.505\n",
      "income            -0.1113      0.020     -5.683      0.000      -0.150      -0.073\n",
      "costC             -0.0034      0.003     -1.100      0.271      -0.010       0.003\n",
      "costS             -0.0425      0.002    -25.466      0.000      -0.046      -0.039\n",
      "costH              0.0361      0.003     13.335      0.000       0.031       0.041\n",
      "==================================================================================\n"
     ]
    }
   ],
   "source": [
    "poisson_model_complete = smf.glm(\n",
    "    formula=\"trips ~ quality + income + ski + userfee + costC + costS + costH\",\n",
    "    data=df,\n",
    "    family=sm.families.Poisson(),\n",
    ").fit()\n",
    "\n",
    "print(poisson_model_complete.summary())"
   ]
  },
  {
   "cell_type": "code",
   "execution_count": 246,
   "id": "5e5f11fb",
   "metadata": {},
   "outputs": [
    {
     "name": "stdout",
     "output_type": "stream",
     "text": [
      "                 Generalized Linear Model Regression Results                  \n",
      "==============================================================================\n",
      "Dep. Variable:                  trips   No. Observations:                  659\n",
      "Model:                            GLM   Df Residuals:                      652\n",
      "Model Family:                 Poisson   Df Model:                            6\n",
      "Link Function:                    Log   Scale:                          1.0000\n",
      "Method:                          IRLS   Log-Likelihood:                -1530.0\n",
      "Date:                Sun, 25 May 2025   Deviance:                       2307.0\n",
      "Time:                        21:03:35   Pearson chi2:                 4.08e+03\n",
      "No. Iterations:                     7   Pseudo R-squ. (CS):             0.9789\n",
      "Covariance Type:            nonrobust                                         \n",
      "==================================================================================\n",
      "                     coef    std err          z      P>|z|      [0.025      0.975]\n",
      "----------------------------------------------------------------------------------\n",
      "Intercept          0.2683      0.094      2.861      0.004       0.084       0.452\n",
      "ski[T.yes]         0.4032      0.056      7.259      0.000       0.294       0.512\n",
      "userfee[T.yes]     0.9007      0.079     11.419      0.000       0.746       1.055\n",
      "quality            0.4692      0.017     27.732      0.000       0.436       0.502\n",
      "income            -0.1118      0.020     -5.710      0.000      -0.150      -0.073\n",
      "costS             -0.0431      0.002    -27.426      0.000      -0.046      -0.040\n",
      "costH              0.0336      0.002     21.790      0.000       0.031       0.037\n",
      "==================================================================================\n"
     ]
    }
   ],
   "source": [
    "poisson_model_simple = smf.glm(\n",
    "    formula=\"trips ~ quality + income + ski + userfee + costS + costH\",\n",
    "    data=df,\n",
    "    family=sm.families.Poisson(),\n",
    ").fit()\n",
    "\n",
    "print(poisson_model_simple.summary())"
   ]
  },
  {
   "cell_type": "markdown",
   "id": "1bc549ad",
   "metadata": {},
   "source": [
    "### Teste de Sobredispersão"
   ]
  },
  {
   "cell_type": "code",
   "execution_count": 247,
   "id": "a6c183be",
   "metadata": {},
   "outputs": [
    {
     "name": "stdout",
     "output_type": "stream",
     "text": [
      "                                 OLS Regression Results                                \n",
      "=======================================================================================\n",
      "Dep. Variable:                      y   R-squared (uncentered):                   0.303\n",
      "Model:                            OLS   Adj. R-squared (uncentered):              0.302\n",
      "Method:                 Least Squares   F-statistic:                              286.4\n",
      "Date:                Sun, 25 May 2025   Prob (F-statistic):                    1.32e-53\n",
      "Time:                        21:03:35   Log-Likelihood:                         -4786.2\n",
      "No. Observations:                 659   AIC:                                      9574.\n",
      "Df Residuals:                     658   BIC:                                      9579.\n",
      "Df Model:                           1                                                  \n",
      "Covariance Type:            nonrobust                                                  \n",
      "==============================================================================\n",
      "                 coef    std err          t      P>|t|      [0.025      0.975]\n",
      "------------------------------------------------------------------------------\n",
      "x1            43.2484      2.556     16.923      0.000      38.230      48.266\n",
      "==============================================================================\n",
      "Omnibus:                     1310.089   Durbin-Watson:                   0.994\n",
      "Prob(Omnibus):                  0.000   Jarque-Bera (JB):          2051120.362\n",
      "Skew:                          14.321   Prob(JB):                         0.00\n",
      "Kurtosis:                     274.807   Cond. No.                         1.00\n",
      "==============================================================================\n",
      "\n",
      "Notes:\n",
      "[1] R² is computed without centering (uncentered) since the model does not contain a constant.\n",
      "[2] Standard Errors assume that the covariance matrix of the errors is correctly specified.\n"
     ]
    }
   ],
   "source": [
    "# Valores ajustados\n",
    "mu_hat = poisson_model.fittedvalues\n",
    "y = df[\"trips\"]\n",
    "\n",
    "# Estatistica Z_i\n",
    "Zi = ((y - mu_hat)**2) - y / mu_hat\n",
    "\n",
    "# Regressão de Z_i em mu_hat (sem intercepto)\n",
    "sobredisp = sm.OLS(Zi, mu_hat).fit()\n",
    "print(sobredisp.summary())"
   ]
  },
  {
   "cell_type": "code",
   "execution_count": 248,
   "id": "23657872",
   "metadata": {},
   "outputs": [
    {
     "name": "stdout",
     "output_type": "stream",
     "text": [
      "O modelo apresenta sobredispersão, com p-value (1.3248014712503913e-53) < 0.05 e coeficiente estimado (43.2) > 0.\n"
     ]
    }
   ],
   "source": [
    "p_value = sobredisp.pvalues[0]\n",
    "coef = sobredisp.params[0]\n",
    "\n",
    "#print(f\"P-value do teste de sobredispersão: {p_value}\")\n",
    "#print(f\"Coeficiente estimado: {coef:.1f}\")\n",
    "\n",
    "# Teste de sobredispersão\n",
    "if p_value < 0.05:\n",
    "    print(f\"O modelo apresenta sobredispersão, com p-value ({p_value}) < 0.05 e coeficiente estimado ({coef:.1f}) > 0.\")\n",
    "else:\n",
    "    print(\"Não há evidências de sobredispersão nos dados.\")"
   ]
  },
  {
   "cell_type": "markdown",
   "id": "4135599a",
   "metadata": {},
   "source": [
    "## Modelos Alternativos"
   ]
  },
  {
   "cell_type": "markdown",
   "id": "c48fc9f5",
   "metadata": {},
   "source": [
    "### Binomial Negativa"
   ]
  },
  {
   "cell_type": "code",
   "execution_count": 249,
   "id": "d3c0ecc7",
   "metadata": {},
   "outputs": [
    {
     "name": "stdout",
     "output_type": "stream",
     "text": [
      "                 Generalized Linear Model Regression Results                  \n",
      "==============================================================================\n",
      "Dep. Variable:                  trips   No. Observations:                  659\n",
      "Model:                            GLM   Df Residuals:                      651\n",
      "Model Family:        NegativeBinomial   Df Model:                            7\n",
      "Link Function:                    Log   Scale:                          1.0000\n",
      "Method:                          IRLS   Log-Likelihood:                -830.01\n",
      "Date:                Sun, 25 May 2025   Deviance:                       503.97\n",
      "Time:                        21:03:35   Pearson chi2:                 1.13e+03\n",
      "No. Iterations:                    25   Pseudo R-squ. (CS):             0.7744\n",
      "Covariance Type:            nonrobust                                         \n",
      "==================================================================================\n",
      "                     coef    std err          z      P>|z|      [0.025      0.975]\n",
      "----------------------------------------------------------------------------------\n",
      "Intercept         -1.0085      0.194     -5.187      0.000      -1.390      -0.627\n",
      "ski[T.yes]         0.6018      0.134      4.479      0.000       0.338       0.865\n",
      "userfee[T.yes]     0.6702      0.306      2.191      0.028       0.071       1.270\n",
      "quality            0.6942      0.036     19.115      0.000       0.623       0.765\n",
      "income            -0.0322      0.038     -0.839      0.402      -0.107       0.043\n",
      "costC              0.0442      0.008      5.492      0.000       0.028       0.060\n",
      "costS             -0.0903      0.006    -15.343      0.000      -0.102      -0.079\n",
      "costH              0.0400      0.007      5.869      0.000       0.027       0.053\n",
      "==================================================================================\n"
     ]
    }
   ],
   "source": [
    "neg_bin_complete = smf.glm(\n",
    "    formula=\"trips ~ quality + income + ski + userfee + costC + costS + costH\",\n",
    "    data=df,\n",
    "    family=sm.families.NegativeBinomial(),\n",
    ").fit()\n",
    "\n",
    "print(neg_bin_complete.summary())"
   ]
  },
  {
   "cell_type": "code",
   "execution_count": 250,
   "id": "3435e4fb",
   "metadata": {},
   "outputs": [
    {
     "name": "stdout",
     "output_type": "stream",
     "text": [
      "                 Generalized Linear Model Regression Results                  \n",
      "==============================================================================\n",
      "Dep. Variable:                  trips   No. Observations:                  659\n",
      "Model:                            GLM   Df Residuals:                      652\n",
      "Model Family:        NegativeBinomial   Df Model:                            6\n",
      "Link Function:                    Log   Scale:                          1.0000\n",
      "Method:                          IRLS   Log-Likelihood:                -830.32\n",
      "Date:                Sun, 25 May 2025   Deviance:                       504.59\n",
      "Time:                        21:03:35   Pearson chi2:                 1.15e+03\n",
      "No. Iterations:                    24   Pseudo R-squ. (CS):             0.7742\n",
      "Covariance Type:            nonrobust                                         \n",
      "==================================================================================\n",
      "                     coef    std err          z      P>|z|      [0.025      0.975]\n",
      "----------------------------------------------------------------------------------\n",
      "Intercept         -1.1109      0.151     -7.370      0.000      -1.406      -0.815\n",
      "ski[T.yes]         0.5858      0.132      4.455      0.000       0.328       0.844\n",
      "userfee[T.yes]     0.6688      0.306      2.187      0.029       0.069       1.268\n",
      "quality            0.6954      0.036     19.146      0.000       0.624       0.767\n",
      "costC              0.0438      0.008      5.430      0.000       0.028       0.060\n",
      "costS             -0.0911      0.006    -15.553      0.000      -0.103      -0.080\n",
      "costH              0.0409      0.007      6.008      0.000       0.028       0.054\n",
      "==================================================================================\n"
     ]
    }
   ],
   "source": [
    "neg_bin_simple = smf.glm(\n",
    "    formula = \"trips ~ quality + ski + userfee + costC + costS + costH\",\n",
    "    data=df,\n",
    "    family=sm.families.NegativeBinomial(),\n",
    ").fit()\n",
    "\n",
    "print(neg_bin_simple.summary())"
   ]
  },
  {
   "cell_type": "code",
   "execution_count": 251,
   "id": "d37cf822",
   "metadata": {},
   "outputs": [
    {
     "name": "stdout",
     "output_type": "stream",
     "text": [
      "              Model          AIC          BIC\n",
      "3   Neg Bin Simples  1674.631200 -3727.366185\n",
      "2  Neg Bin Completo  1676.012852 -3721.493810\n",
      "1   Poisson Simples  3074.056775 -1924.972005\n",
      "0  Poisson Completo  3074.862594 -1919.675463\n"
     ]
    }
   ],
   "source": [
    "# compare all models\n",
    "\n",
    "models_comparison = pd.DataFrame({\n",
    "    'Model': ['Poisson Completo', 'Poisson Simples',\n",
    "                'Neg Bin Completo', 'Neg Bin Simples'],\n",
    "    'AIC': [m.aic for m in [\n",
    "        poisson_model_complete, poisson_model_simple,\n",
    "        neg_bin_complete, neg_bin_simple\n",
    "    ]],\n",
    "    'BIC': [m.bic for m in [\n",
    "        poisson_model_complete, poisson_model_simple,\n",
    "        neg_bin_complete, neg_bin_simple\n",
    "    ]]\n",
    "})\n",
    "\n",
    "print(models_comparison.sort_values('AIC'))"
   ]
  },
  {
   "cell_type": "code",
   "execution_count": null,
   "id": "4f9a3112",
   "metadata": {},
   "outputs": [],
   "source": []
  }
 ],
 "metadata": {
  "kernelspec": {
   "display_name": "Python 3",
   "language": "python",
   "name": "python3"
  },
  "language_info": {
   "codemirror_mode": {
    "name": "ipython",
    "version": 3
   },
   "file_extension": ".py",
   "mimetype": "text/x-python",
   "name": "python",
   "nbconvert_exporter": "python",
   "pygments_lexer": "ipython3",
   "version": "3.12.0"
  }
 },
 "nbformat": 4,
 "nbformat_minor": 5
}
